{
  "cells": [
    {
      "cell_type": "code",
      "execution_count": null,
      "metadata": {
        "id": "ottGolehC4c3"
      },
      "outputs": [],
      "source": [
        "import pandas as pd\n",
        "import numpy as np\n",
        "import matplotlib.pyplot as plt\n",
        "import re\n",
        "import nltk"
      ]
    },
    {
      "cell_type": "code",
      "execution_count": null,
      "metadata": {
        "colab": {
          "base_uri": "https://localhost:8080/",
          "height": 129
        },
        "id": "6TGOIWRKB1aa",
        "outputId": "ccbba382-0d17-4ec5-df8b-d261603b4daa"
      },
      "outputs": [
        {
          "name": "stdout",
          "output_type": "stream",
          "text": [
            "Go to this URL in a browser: https://accounts.google.com/o/oauth2/auth?client_id=947318989803-6bn6qk8qdgf4n4g3pfee6491hc0brc4i.apps.googleusercontent.com&redirect_uri=urn%3Aietf%3Awg%3Aoauth%3A2.0%3Aoob&scope=email%20https%3A%2F%2Fwww.googleapis.com%2Fauth%2Fdocs.test%20https%3A%2F%2Fwww.googleapis.com%2Fauth%2Fdrive%20https%3A%2F%2Fwww.googleapis.com%2Fauth%2Fdrive.photos.readonly%20https%3A%2F%2Fwww.googleapis.com%2Fauth%2Fpeopleapi.readonly&response_type=code\n",
            "\n",
            "Enter your authorization code:\n",
            "··········\n",
            "Mounted at /content/drive/\n"
          ]
        }
      ],
      "source": [
        "from google.colab import drive\n",
        "drive.mount('/content/drive/')"
      ]
    },
    {
      "cell_type": "code",
      "execution_count": null,
      "metadata": {
        "colab": {
          "base_uri": "https://localhost:8080/",
          "height": 35
        },
        "id": "z6rTEfi-mpHw",
        "outputId": "55474275-ed0c-4b86-f5bd-4ff6d9516b59"
      },
      "outputs": [
        {
          "name": "stdout",
          "output_type": "stream",
          "text": [
            "drive  sample_data\n"
          ]
        }
      ],
      "source": [
        "import os\n",
        "!ls"
      ]
    },
    {
      "cell_type": "code",
      "execution_count": null,
      "metadata": {
        "id": "QyVVWz1QLr0Z"
      },
      "outputs": [],
      "source": [
        "os.chdir(\"/content/drive/My Drive/Essay_score\")"
      ]
    },
    {
      "cell_type": "code",
      "execution_count": null,
      "metadata": {
        "colab": {
          "base_uri": "https://localhost:8080/",
          "height": 181
        },
        "id": "RP4lKyZB0Zcl",
        "outputId": "44d9bf3d-fa8d-4a5e-f69e-5773a2e39eb9"
      },
      "outputs": [
        {
          "name": "stdout",
          "output_type": "stream",
          "text": [
            "Essay_scoring.py\ttraining_set_rel3.xlsx\n",
            "Essay_Set_Descriptions\tvalid_sample_submission_1_column.csv\n",
            "model.h5\t\tvalid_sample_submission_1_column_no_header.csv\n",
            "model.pickle\t\tvalid_sample_submission_2_column.csv\n",
            "new_df.csv\t\tvalid_sample_submission_5_column.csv\n",
            "test_set.tsv\t\tvalid_set.tsv\n",
            "Training_Materials\tvalid_set.xls\n",
            "training_set_rel3.tsv\tvalid_set.xlsx\n",
            "training_set_rel3.xls\n"
          ]
        }
      ],
      "source": [
        "!ls\n"
      ]
    },
    {
      "cell_type": "code",
      "execution_count": null,
      "metadata": {
        "id": "ybMBGKYB0fPi"
      },
      "outputs": [],
      "source": [
        "df = pd.read_csv(\"training_set_rel3.tsv\", delimiter = \"\\t\",encoding='charmap')\n",
        "#new_df = pd.read_csv('new_df.csv',encoding='charmap')"
      ]
    },
    {
      "cell_type": "code",
      "execution_count": null,
      "metadata": {
        "colab": {
          "base_uri": "https://localhost:8080/",
          "height": 608
        },
        "id": "fQ_msv4b-bGp",
        "outputId": "ae4f018d-afec-4f56-f73a-3024adabb765"
      },
      "outputs": [
        {
          "data": {
            "text/html": [
              "<div>\n",
              "<style scoped>\n",
              "    .dataframe tbody tr th:only-of-type {\n",
              "        vertical-align: middle;\n",
              "    }\n",
              "\n",
              "    .dataframe tbody tr th {\n",
              "        vertical-align: top;\n",
              "    }\n",
              "\n",
              "    .dataframe thead th {\n",
              "        text-align: right;\n",
              "    }\n",
              "</style>\n",
              "<table border=\"1\" class=\"dataframe\">\n",
              "  <thead>\n",
              "    <tr style=\"text-align: right;\">\n",
              "      <th></th>\n",
              "      <th>essay_id</th>\n",
              "      <th>essay_set</th>\n",
              "      <th>essay</th>\n",
              "      <th>rater1_domain1</th>\n",
              "      <th>rater2_domain1</th>\n",
              "      <th>rater3_domain1</th>\n",
              "      <th>domain1_score</th>\n",
              "      <th>rater1_domain2</th>\n",
              "      <th>rater2_domain2</th>\n",
              "      <th>domain2_score</th>\n",
              "      <th>rater1_trait1</th>\n",
              "      <th>rater1_trait2</th>\n",
              "      <th>rater1_trait3</th>\n",
              "      <th>rater1_trait4</th>\n",
              "      <th>rater1_trait5</th>\n",
              "      <th>rater1_trait6</th>\n",
              "      <th>rater2_trait1</th>\n",
              "      <th>rater2_trait2</th>\n",
              "      <th>rater2_trait3</th>\n",
              "      <th>rater2_trait4</th>\n",
              "      <th>rater2_trait5</th>\n",
              "      <th>rater2_trait6</th>\n",
              "      <th>rater3_trait1</th>\n",
              "      <th>rater3_trait2</th>\n",
              "      <th>rater3_trait3</th>\n",
              "      <th>rater3_trait4</th>\n",
              "      <th>rater3_trait5</th>\n",
              "      <th>rater3_trait6</th>\n",
              "    </tr>\n",
              "  </thead>\n",
              "  <tbody>\n",
              "    <tr>\n",
              "      <th>12971</th>\n",
              "      <td>21626</td>\n",
              "      <td>8</td>\n",
              "      <td>In most stories mothers and daughters are eit...</td>\n",
              "      <td>17</td>\n",
              "      <td>18</td>\n",
              "      <td>NaN</td>\n",
              "      <td>35</td>\n",
              "      <td>NaN</td>\n",
              "      <td>NaN</td>\n",
              "      <td>NaN</td>\n",
              "      <td>4.0</td>\n",
              "      <td>3.0</td>\n",
              "      <td>4.0</td>\n",
              "      <td>4.0</td>\n",
              "      <td>4.0</td>\n",
              "      <td>3.0</td>\n",
              "      <td>4.0</td>\n",
              "      <td>4.0</td>\n",
              "      <td>4.0</td>\n",
              "      <td>4.0</td>\n",
              "      <td>4.0</td>\n",
              "      <td>3.0</td>\n",
              "      <td>NaN</td>\n",
              "      <td>NaN</td>\n",
              "      <td>NaN</td>\n",
              "      <td>NaN</td>\n",
              "      <td>NaN</td>\n",
              "      <td>NaN</td>\n",
              "    </tr>\n",
              "    <tr>\n",
              "      <th>12972</th>\n",
              "      <td>21628</td>\n",
              "      <td>8</td>\n",
              "      <td>I never understood the meaning laughter is th...</td>\n",
              "      <td>15</td>\n",
              "      <td>17</td>\n",
              "      <td>NaN</td>\n",
              "      <td>32</td>\n",
              "      <td>NaN</td>\n",
              "      <td>NaN</td>\n",
              "      <td>NaN</td>\n",
              "      <td>3.0</td>\n",
              "      <td>3.0</td>\n",
              "      <td>4.0</td>\n",
              "      <td>3.0</td>\n",
              "      <td>3.0</td>\n",
              "      <td>3.0</td>\n",
              "      <td>4.0</td>\n",
              "      <td>3.0</td>\n",
              "      <td>4.0</td>\n",
              "      <td>4.0</td>\n",
              "      <td>4.0</td>\n",
              "      <td>3.0</td>\n",
              "      <td>NaN</td>\n",
              "      <td>NaN</td>\n",
              "      <td>NaN</td>\n",
              "      <td>NaN</td>\n",
              "      <td>NaN</td>\n",
              "      <td>NaN</td>\n",
              "    </tr>\n",
              "    <tr>\n",
              "      <th>12973</th>\n",
              "      <td>21629</td>\n",
              "      <td>8</td>\n",
              "      <td>When you laugh, is @CAPS5 out of habit, or is ...</td>\n",
              "      <td>20</td>\n",
              "      <td>26</td>\n",
              "      <td>40.0</td>\n",
              "      <td>40</td>\n",
              "      <td>NaN</td>\n",
              "      <td>NaN</td>\n",
              "      <td>NaN</td>\n",
              "      <td>4.0</td>\n",
              "      <td>4.0</td>\n",
              "      <td>4.0</td>\n",
              "      <td>4.0</td>\n",
              "      <td>4.0</td>\n",
              "      <td>4.0</td>\n",
              "      <td>6.0</td>\n",
              "      <td>5.0</td>\n",
              "      <td>5.0</td>\n",
              "      <td>5.0</td>\n",
              "      <td>5.0</td>\n",
              "      <td>5.0</td>\n",
              "      <td>4.0</td>\n",
              "      <td>4.0</td>\n",
              "      <td>4.0</td>\n",
              "      <td>4.0</td>\n",
              "      <td>4.0</td>\n",
              "      <td>4.0</td>\n",
              "    </tr>\n",
              "    <tr>\n",
              "      <th>12974</th>\n",
              "      <td>21630</td>\n",
              "      <td>8</td>\n",
              "      <td>Trippin' on fen...</td>\n",
              "      <td>20</td>\n",
              "      <td>20</td>\n",
              "      <td>NaN</td>\n",
              "      <td>40</td>\n",
              "      <td>NaN</td>\n",
              "      <td>NaN</td>\n",
              "      <td>NaN</td>\n",
              "      <td>4.0</td>\n",
              "      <td>4.0</td>\n",
              "      <td>4.0</td>\n",
              "      <td>4.0</td>\n",
              "      <td>4.0</td>\n",
              "      <td>4.0</td>\n",
              "      <td>4.0</td>\n",
              "      <td>4.0</td>\n",
              "      <td>4.0</td>\n",
              "      <td>4.0</td>\n",
              "      <td>4.0</td>\n",
              "      <td>4.0</td>\n",
              "      <td>NaN</td>\n",
              "      <td>NaN</td>\n",
              "      <td>NaN</td>\n",
              "      <td>NaN</td>\n",
              "      <td>NaN</td>\n",
              "      <td>NaN</td>\n",
              "    </tr>\n",
              "    <tr>\n",
              "      <th>12975</th>\n",
              "      <td>21633</td>\n",
              "      <td>8</td>\n",
              "      <td>Many people believe that laughter can improve...</td>\n",
              "      <td>20</td>\n",
              "      <td>20</td>\n",
              "      <td>NaN</td>\n",
              "      <td>40</td>\n",
              "      <td>NaN</td>\n",
              "      <td>NaN</td>\n",
              "      <td>NaN</td>\n",
              "      <td>4.0</td>\n",
              "      <td>4.0</td>\n",
              "      <td>4.0</td>\n",
              "      <td>4.0</td>\n",
              "      <td>4.0</td>\n",
              "      <td>4.0</td>\n",
              "      <td>4.0</td>\n",
              "      <td>4.0</td>\n",
              "      <td>4.0</td>\n",
              "      <td>4.0</td>\n",
              "      <td>4.0</td>\n",
              "      <td>4.0</td>\n",
              "      <td>NaN</td>\n",
              "      <td>NaN</td>\n",
              "      <td>NaN</td>\n",
              "      <td>NaN</td>\n",
              "      <td>NaN</td>\n",
              "      <td>NaN</td>\n",
              "    </tr>\n",
              "  </tbody>\n",
              "</table>\n",
              "</div>"
            ],
            "text/plain": [
              "       essay_id  essay_set  ... rater3_trait5  rater3_trait6\n",
              "12971     21626          8  ...           NaN            NaN\n",
              "12972     21628          8  ...           NaN            NaN\n",
              "12973     21629          8  ...           4.0            4.0\n",
              "12974     21630          8  ...           NaN            NaN\n",
              "12975     21633          8  ...           NaN            NaN\n",
              "\n",
              "[5 rows x 28 columns]"
            ]
          },
          "execution_count": 7,
          "metadata": {
            "tags": []
          },
          "output_type": "execute_result"
        }
      ],
      "source": [
        "df.tail()"
      ]
    },
    {
      "cell_type": "code",
      "execution_count": null,
      "metadata": {
        "id": "2wMZvjlk-YwD"
      },
      "outputs": [],
      "source": [
        "df = df.iloc[:,[0,1,2,6]]"
      ]
    },
    {
      "cell_type": "code",
      "execution_count": null,
      "metadata": {
        "colab": {
          "base_uri": "https://localhost:8080/",
          "height": 112
        },
        "id": "3s2kCGCjGohr",
        "outputId": "8a8a319a-bd3b-4e4f-c9c6-bcb4d6034721"
      },
      "outputs": [
        {
          "data": {
            "text/html": [
              "<div>\n",
              "<style scoped>\n",
              "    .dataframe tbody tr th:only-of-type {\n",
              "        vertical-align: middle;\n",
              "    }\n",
              "\n",
              "    .dataframe tbody tr th {\n",
              "        vertical-align: top;\n",
              "    }\n",
              "\n",
              "    .dataframe thead th {\n",
              "        text-align: right;\n",
              "    }\n",
              "</style>\n",
              "<table border=\"1\" class=\"dataframe\">\n",
              "  <thead>\n",
              "    <tr style=\"text-align: right;\">\n",
              "      <th></th>\n",
              "      <th>essay_id</th>\n",
              "      <th>essay_set</th>\n",
              "      <th>essay</th>\n",
              "      <th>domain1_score</th>\n",
              "    </tr>\n",
              "  </thead>\n",
              "  <tbody>\n",
              "    <tr>\n",
              "      <th>0</th>\n",
              "      <td>1</td>\n",
              "      <td>1</td>\n",
              "      <td>Dear local newspaper, I think effects computer...</td>\n",
              "      <td>8</td>\n",
              "    </tr>\n",
              "    <tr>\n",
              "      <th>1</th>\n",
              "      <td>2</td>\n",
              "      <td>1</td>\n",
              "      <td>Dear @CAPS1 @CAPS2, I believe that using compu...</td>\n",
              "      <td>9</td>\n",
              "    </tr>\n",
              "  </tbody>\n",
              "</table>\n",
              "</div>"
            ],
            "text/plain": [
              "   essay_id  ...  domain1_score\n",
              "0         1  ...              8\n",
              "1         2  ...              9\n",
              "\n",
              "[2 rows x 4 columns]"
            ]
          },
          "execution_count": 9,
          "metadata": {
            "tags": []
          },
          "output_type": "execute_result"
        }
      ],
      "source": [
        "df.head(2)"
      ]
    },
    {
      "cell_type": "code",
      "execution_count": null,
      "metadata": {
        "colab": {
          "base_uri": "https://localhost:8080/",
          "height": 35
        },
        "id": "ymj-sZ5EabRo",
        "outputId": "ee4fb0b2-85a0-4db0-c188-4ffe4d24b60b"
      },
      "outputs": [
        {
          "data": {
            "text/plain": [
              "(12976, 4)"
            ]
          },
          "execution_count": 8,
          "metadata": {
            "tags": []
          },
          "output_type": "execute_result"
        }
      ],
      "source": [
        "df.shape"
      ]
    },
    {
      "cell_type": "code",
      "execution_count": null,
      "metadata": {
        "colab": {
          "base_uri": "https://localhost:8080/",
          "height": 72
        },
        "id": "XJ1pPDlPbEq_",
        "outputId": "b3faa8c6-8b03-44ea-e028-46abfedf6bdf"
      },
      "outputs": [
        {
          "name": "stdout",
          "output_type": "stream",
          "text": [
            "[nltk_data] Downloading package punkt to /root/nltk_data...\n",
            "[nltk_data]   Unzipping tokenizers/punkt.zip.\n"
          ]
        },
        {
          "data": {
            "text/plain": [
              "True"
            ]
          },
          "execution_count": 7,
          "metadata": {
            "tags": []
          },
          "output_type": "execute_result"
        }
      ],
      "source": [
        "nltk.download('punkt')"
      ]
    },
    {
      "cell_type": "code",
      "execution_count": null,
      "metadata": {
        "id": "-s1dkSeB1Lwz"
      },
      "outputs": [],
      "source": [
        "def sent_count(x):\n",
        "    essay = str(x)\n",
        "    sent_list = nltk.sent_tokenize(essay)\n",
        "    return len(sent_list)\n",
        "\n",
        "\n",
        "df['sent_count'] = df['essay'].apply(sent_count)\n"
      ]
    },
    {
      "cell_type": "code",
      "execution_count": null,
      "metadata": {
        "colab": {
          "base_uri": "https://localhost:8080/",
          "height": 112
        },
        "id": "UddExOh0Ahgy",
        "outputId": "fe839c8f-b461-44e5-969c-b78b6cdf1f09"
      },
      "outputs": [
        {
          "data": {
            "text/html": [
              "<div>\n",
              "<style scoped>\n",
              "    .dataframe tbody tr th:only-of-type {\n",
              "        vertical-align: middle;\n",
              "    }\n",
              "\n",
              "    .dataframe tbody tr th {\n",
              "        vertical-align: top;\n",
              "    }\n",
              "\n",
              "    .dataframe thead th {\n",
              "        text-align: right;\n",
              "    }\n",
              "</style>\n",
              "<table border=\"1\" class=\"dataframe\">\n",
              "  <thead>\n",
              "    <tr style=\"text-align: right;\">\n",
              "      <th></th>\n",
              "      <th>essay_id</th>\n",
              "      <th>essay_set</th>\n",
              "      <th>essay</th>\n",
              "      <th>domain1_score</th>\n",
              "      <th>sent_count</th>\n",
              "    </tr>\n",
              "  </thead>\n",
              "  <tbody>\n",
              "    <tr>\n",
              "      <th>0</th>\n",
              "      <td>1</td>\n",
              "      <td>1</td>\n",
              "      <td>Dear local newspaper, I think effects computer...</td>\n",
              "      <td>8</td>\n",
              "      <td>16</td>\n",
              "    </tr>\n",
              "    <tr>\n",
              "      <th>1</th>\n",
              "      <td>2</td>\n",
              "      <td>1</td>\n",
              "      <td>Dear @CAPS1 @CAPS2, I believe that using compu...</td>\n",
              "      <td>9</td>\n",
              "      <td>20</td>\n",
              "    </tr>\n",
              "  </tbody>\n",
              "</table>\n",
              "</div>"
            ],
            "text/plain": [
              "   essay_id  essay_set  ... domain1_score  sent_count\n",
              "0         1          1  ...             8          16\n",
              "1         2          1  ...             9          20\n",
              "\n",
              "[2 rows x 5 columns]"
            ]
          },
          "execution_count": 9,
          "metadata": {
            "tags": []
          },
          "output_type": "execute_result"
        }
      ],
      "source": [
        "df.head(2)"
      ]
    },
    {
      "cell_type": "code",
      "execution_count": null,
      "metadata": {
        "id": "28fw8Lmld-JZ"
      },
      "outputs": [],
      "source": [
        "\"\"\"\n",
        "Average sentence length\n",
        "\n",
        "\"\"\"\n",
        "\n",
        "def av_sent_len(x):\n",
        "    essay = str(x)\n",
        "    word_count = len(essay.split())\n",
        "    sent_list = nltk.sent_tokenize(str(x))\n",
        "    sent_count = len(sent_list)\n",
        "    return int(word_count/sent_count)\n",
        "\n",
        "\n",
        "df['av_sent_len'] = df['essay'].apply(av_sent_len)\n"
      ]
    },
    {
      "cell_type": "code",
      "execution_count": null,
      "metadata": {
        "id": "PYofVfzCaw6Z"
      },
      "outputs": [],
      "source": [
        "\"\"\"\n",
        "Cleaning the essay\n",
        "\n",
        "\"\"\"\n",
        "\n",
        "def clean_essay(x):\n",
        "  x = re.sub(r'@[A-Z]{2,}\\d?,?\\'?s? ?','',str(x))\n",
        "  x = re.sub(r'[^a-zA-Z ]','',x)\n",
        "  x = nltk.word_tokenize(x)\n",
        "  x = \" \".join(x)\n",
        "  return x\n",
        "\n",
        "df['essay'] = df['essay'].apply(clean_essay)\n"
      ]
    },
    {
      "cell_type": "code",
      "execution_count": null,
      "metadata": {
        "id": "sL2-NFz1Tm5Y"
      },
      "outputs": [],
      "source": [
        "\"\"\"\n",
        "Adding char count\n",
        "\"\"\"\n",
        "\n",
        "def char_count(x):\n",
        "  x = re.sub(r'[\\s]','',str(x))\n",
        "  return len(x)\n",
        "\n",
        "df['char_count'] = df['essay'].apply(char_count)\n",
        "\n"
      ]
    },
    {
      "cell_type": "code",
      "execution_count": null,
      "metadata": {
        "id": "pkk7EyUda4pQ"
      },
      "outputs": [],
      "source": [
        "\n",
        "\"\"\"\n",
        "Adding word count\n",
        "\n",
        "\"\"\"\n",
        "\n",
        "def word_count(x):\n",
        "  essay = str(x)\n",
        "  essay = essay.split()\n",
        "  return len(essay)\n",
        "\n",
        "\n",
        "df['word_count'] = df['essay'].apply(word_count)\n",
        "\n"
      ]
    },
    {
      "cell_type": "code",
      "execution_count": null,
      "metadata": {
        "colab": {
          "base_uri": "https://localhost:8080/",
          "height": 72
        },
        "id": "yMmXzQg9bcUc",
        "outputId": "9c9cb34f-3e0b-42b8-e303-93acadcc6088"
      },
      "outputs": [
        {
          "name": "stdout",
          "output_type": "stream",
          "text": [
            "[nltk_data] Downloading package stopwords to /root/nltk_data...\n",
            "[nltk_data]   Unzipping corpora/stopwords.zip.\n"
          ]
        },
        {
          "data": {
            "text/plain": [
              "True"
            ]
          },
          "execution_count": 14,
          "metadata": {
            "tags": []
          },
          "output_type": "execute_result"
        }
      ],
      "source": [
        "nltk.download('stopwords')"
      ]
    },
    {
      "cell_type": "code",
      "execution_count": null,
      "metadata": {
        "id": "v5TDlQ5ua4nF"
      },
      "outputs": [],
      "source": [
        "\n",
        "\"\"\"\n",
        "Number of distinct words in a essay\n",
        "\n",
        "\"\"\"\n",
        "\n",
        "from nltk.corpus import stopwords\n",
        "#from nltk.stem.wordnet import WordNetLemmatizer\n",
        "from nltk.stem.porter import PorterStemmer\n",
        "ps = PorterStemmer()\n",
        "stop_word = set(stopwords.words('english'))\n",
        "def uni_word_count(x):\n",
        "    essay = str(x).lower()\n",
        "    uniq_word = essay.split()\n",
        "    uniq_word = [ps.stem(word) for word in uniq_word if not word in stop_word]\n",
        "    uniq_word = list(set(essay.split()))\n",
        "    return len(uniq_word)\n",
        "\n",
        "\n",
        "df['uni_word_count'] = df['essay'].apply(uni_word_count)\n"
      ]
    },
    {
      "cell_type": "code",
      "execution_count": null,
      "metadata": {
        "colab": {
          "base_uri": "https://localhost:8080/",
          "height": 90
        },
        "id": "rFleUNtXbsMW",
        "outputId": "aaeff712-485a-4569-ec05-9477bfdfd58f"
      },
      "outputs": [
        {
          "name": "stdout",
          "output_type": "stream",
          "text": [
            "[nltk_data] Downloading package averaged_perceptron_tagger to\n",
            "[nltk_data]     /root/nltk_data...\n",
            "[nltk_data]   Unzipping taggers/averaged_perceptron_tagger.zip.\n"
          ]
        },
        {
          "data": {
            "text/plain": [
              "True"
            ]
          },
          "execution_count": 16,
          "metadata": {
            "tags": []
          },
          "output_type": "execute_result"
        }
      ],
      "source": [
        "nltk.download('averaged_perceptron_tagger')"
      ]
    },
    {
      "cell_type": "code",
      "execution_count": null,
      "metadata": {
        "id": "2IOCCcbVa4lC"
      },
      "outputs": [],
      "source": [
        "\"\"\"\n",
        "Nouns_count , Verb_count , Adjective_count, Adverb_count\n",
        "\n",
        "\"\"\"\n",
        "import nltk\n",
        "#from textblob import TextBlob\n",
        "#import spacy\n",
        "#nlp = spacy.load('en')\n",
        "#nlp1 = spacy.load('en_core_web_lg')\n",
        "\n",
        "def lemmas_count(x):\n",
        "  x = str(x).lower()\n",
        "  x = nltk.word_tokenize(x)\n",
        "  pos_tag = nltk.pos_tag(x)\n",
        "\n",
        "  noun_count = 0\n",
        "  verb_count = 0\n",
        "  adjective_count = 0\n",
        "  adverb_count = 0\n",
        "\n",
        "  for (word, pos) in pos_tag:\n",
        "    if pos.startswith('N'):\n",
        "      noun_count +=1\n",
        "    elif pos.startswith('V'):\n",
        "      verb_count +=1\n",
        "    elif pos.startswith('J'):\n",
        "      adjective_count += 1\n",
        "    elif pos.startswith('R'):\n",
        "      adverb_count +=1\n",
        "  return pd.Series([noun_count , verb_count , adjective_count, adverb_count])\n",
        "\n",
        "\n",
        "df[['noun_count','verb_count','adjective_count','adverb_count']] = df['essay'].apply(lemmas_count)\n",
        "\n"
      ]
    },
    {
      "cell_type": "code",
      "execution_count": null,
      "metadata": {
        "colab": {
          "base_uri": "https://localhost:8080/",
          "height": 556
        },
        "id": "w067vVhaFFpZ",
        "outputId": "7d20c383-0167-4238-8a75-b2befadb3be6"
      },
      "outputs": [
        {
          "data": {
            "text/html": [
              "<div>\n",
              "<style scoped>\n",
              "    .dataframe tbody tr th:only-of-type {\n",
              "        vertical-align: middle;\n",
              "    }\n",
              "\n",
              "    .dataframe tbody tr th {\n",
              "        vertical-align: top;\n",
              "    }\n",
              "\n",
              "    .dataframe thead th {\n",
              "        text-align: right;\n",
              "    }\n",
              "</style>\n",
              "<table border=\"1\" class=\"dataframe\">\n",
              "  <thead>\n",
              "    <tr style=\"text-align: right;\">\n",
              "      <th></th>\n",
              "      <th>essay_id</th>\n",
              "      <th>essay_set</th>\n",
              "      <th>essay</th>\n",
              "      <th>domain1_score</th>\n",
              "      <th>sent_count</th>\n",
              "      <th>av_sent_len</th>\n",
              "      <th>char_count</th>\n",
              "      <th>word_count</th>\n",
              "      <th>uni_word_count</th>\n",
              "      <th>noun_count</th>\n",
              "      <th>verb_count</th>\n",
              "      <th>adjective_count</th>\n",
              "      <th>adverb_count</th>\n",
              "    </tr>\n",
              "  </thead>\n",
              "  <tbody>\n",
              "    <tr>\n",
              "      <th>0</th>\n",
              "      <td>1</td>\n",
              "      <td>1</td>\n",
              "      <td>Dear local newspaper I think effects computers...</td>\n",
              "      <td>8</td>\n",
              "      <td>16</td>\n",
              "      <td>21</td>\n",
              "      <td>1441</td>\n",
              "      <td>332</td>\n",
              "      <td>160</td>\n",
              "      <td>73</td>\n",
              "      <td>71</td>\n",
              "      <td>19</td>\n",
              "      <td>25</td>\n",
              "    </tr>\n",
              "    <tr>\n",
              "      <th>1</th>\n",
              "      <td>2</td>\n",
              "      <td>1</td>\n",
              "      <td>Dear I believe that using computers will benef...</td>\n",
              "      <td>9</td>\n",
              "      <td>20</td>\n",
              "      <td>20</td>\n",
              "      <td>1765</td>\n",
              "      <td>409</td>\n",
              "      <td>186</td>\n",
              "      <td>99</td>\n",
              "      <td>87</td>\n",
              "      <td>19</td>\n",
              "      <td>17</td>\n",
              "    </tr>\n",
              "    <tr>\n",
              "      <th>2</th>\n",
              "      <td>3</td>\n",
              "      <td>1</td>\n",
              "      <td>Dear More and more people use computers but no...</td>\n",
              "      <td>7</td>\n",
              "      <td>14</td>\n",
              "      <td>19</td>\n",
              "      <td>1185</td>\n",
              "      <td>272</td>\n",
              "      <td>142</td>\n",
              "      <td>75</td>\n",
              "      <td>50</td>\n",
              "      <td>20</td>\n",
              "      <td>17</td>\n",
              "    </tr>\n",
              "    <tr>\n",
              "      <th>3</th>\n",
              "      <td>4</td>\n",
              "      <td>1</td>\n",
              "      <td>Dear Local Newspaper I have found that many ex...</td>\n",
              "      <td>10</td>\n",
              "      <td>27</td>\n",
              "      <td>19</td>\n",
              "      <td>2274</td>\n",
              "      <td>483</td>\n",
              "      <td>225</td>\n",
              "      <td>132</td>\n",
              "      <td>95</td>\n",
              "      <td>41</td>\n",
              "      <td>29</td>\n",
              "    </tr>\n",
              "    <tr>\n",
              "      <th>4</th>\n",
              "      <td>5</td>\n",
              "      <td>1</td>\n",
              "      <td>Dear I know having computers has a positive ef...</td>\n",
              "      <td>8</td>\n",
              "      <td>30</td>\n",
              "      <td>15</td>\n",
              "      <td>2023</td>\n",
              "      <td>461</td>\n",
              "      <td>196</td>\n",
              "      <td>109</td>\n",
              "      <td>90</td>\n",
              "      <td>28</td>\n",
              "      <td>35</td>\n",
              "    </tr>\n",
              "  </tbody>\n",
              "</table>\n",
              "</div>"
            ],
            "text/plain": [
              "   essay_id  essay_set  ... adjective_count  adverb_count\n",
              "0         1          1  ...              19            25\n",
              "1         2          1  ...              19            17\n",
              "2         3          1  ...              20            17\n",
              "3         4          1  ...              41            29\n",
              "4         5          1  ...              28            35\n",
              "\n",
              "[5 rows x 13 columns]"
            ]
          },
          "execution_count": 18,
          "metadata": {
            "tags": []
          },
          "output_type": "execute_result"
        }
      ],
      "source": [
        "df.head()"
      ]
    },
    {
      "cell_type": "code",
      "execution_count": null,
      "metadata": {
        "id": "94AaPs3Oa4jJ"
      },
      "outputs": [],
      "source": [
        "\"\"\"\n",
        "Verb_count\n",
        "\n",
        "def verb_count(x):\n",
        "    x = str(x).lower()\n",
        "    x = nltk.word_tokenize(x)\n",
        "    x = nltk.pos_tag(x)\n",
        "    list1 = ([word for (word, pos) in x if pos[0] == 'V'])\n",
        "    return len(list1)\n",
        "\n",
        "df['verb_count'] = df['essay'].apply(verb_count)\n",
        "\n",
        "\"\"\""
      ]
    },
    {
      "cell_type": "code",
      "execution_count": null,
      "metadata": {
        "id": "W58goQWkQu-G"
      },
      "outputs": [],
      "source": [
        "df1 = df[df['essay_set'] == 1]\n",
        "df2 = df[df['essay_set'] == 2]\n",
        "df3 = df[df['essay_set'] == 3]\n",
        "df4 = df[df['essay_set'] == 4]\n",
        "df5 = df[df['essay_set'] == 5]\n",
        "df6 = df[df['essay_set'] == 6]\n",
        "df7 = df[df['essay_set'] == 7]\n",
        "df8 = df[df['essay_set'] == 8]\n"
      ]
    },
    {
      "cell_type": "code",
      "execution_count": null,
      "metadata": {
        "colab": {
          "base_uri": "https://localhost:8080/",
          "height": 35
        },
        "id": "TQf7XB3yDdXR",
        "outputId": "abe55929-bc31-490d-fb84-0dc2cbeddaa3"
      },
      "outputs": [
        {
          "data": {
            "text/plain": [
              "(12976, 13)"
            ]
          },
          "execution_count": 20,
          "metadata": {
            "tags": []
          },
          "output_type": "execute_result"
        }
      ],
      "source": [
        "df.shape"
      ]
    },
    {
      "cell_type": "code",
      "execution_count": null,
      "metadata": {
        "colab": {
          "base_uri": "https://localhost:8080/",
          "height": 556
        },
        "id": "rXl4YTriT5Q8",
        "outputId": "2d98d80e-b939-4a3c-8672-952946ad65c1"
      },
      "outputs": [
        {
          "data": {
            "text/html": [
              "<div>\n",
              "<style scoped>\n",
              "    .dataframe tbody tr th:only-of-type {\n",
              "        vertical-align: middle;\n",
              "    }\n",
              "\n",
              "    .dataframe tbody tr th {\n",
              "        vertical-align: top;\n",
              "    }\n",
              "\n",
              "    .dataframe thead th {\n",
              "        text-align: right;\n",
              "    }\n",
              "</style>\n",
              "<table border=\"1\" class=\"dataframe\">\n",
              "  <thead>\n",
              "    <tr style=\"text-align: right;\">\n",
              "      <th></th>\n",
              "      <th>essay_id</th>\n",
              "      <th>essay_set</th>\n",
              "      <th>essay</th>\n",
              "      <th>domain1_score</th>\n",
              "      <th>sent_count</th>\n",
              "      <th>av_sent_len</th>\n",
              "      <th>char_count</th>\n",
              "      <th>word_count</th>\n",
              "      <th>uni_word_count</th>\n",
              "      <th>noun_count</th>\n",
              "      <th>verb_count</th>\n",
              "      <th>adjective_count</th>\n",
              "      <th>adverb_count</th>\n",
              "    </tr>\n",
              "  </thead>\n",
              "  <tbody>\n",
              "    <tr>\n",
              "      <th>0</th>\n",
              "      <td>1</td>\n",
              "      <td>1</td>\n",
              "      <td>Dear local newspaper I think effects computers...</td>\n",
              "      <td>8</td>\n",
              "      <td>16</td>\n",
              "      <td>21</td>\n",
              "      <td>1441</td>\n",
              "      <td>332</td>\n",
              "      <td>160</td>\n",
              "      <td>73</td>\n",
              "      <td>71</td>\n",
              "      <td>19</td>\n",
              "      <td>25</td>\n",
              "    </tr>\n",
              "    <tr>\n",
              "      <th>1</th>\n",
              "      <td>2</td>\n",
              "      <td>1</td>\n",
              "      <td>Dear I believe that using computers will benef...</td>\n",
              "      <td>9</td>\n",
              "      <td>20</td>\n",
              "      <td>20</td>\n",
              "      <td>1765</td>\n",
              "      <td>409</td>\n",
              "      <td>186</td>\n",
              "      <td>99</td>\n",
              "      <td>87</td>\n",
              "      <td>19</td>\n",
              "      <td>17</td>\n",
              "    </tr>\n",
              "    <tr>\n",
              "      <th>2</th>\n",
              "      <td>3</td>\n",
              "      <td>1</td>\n",
              "      <td>Dear More and more people use computers but no...</td>\n",
              "      <td>7</td>\n",
              "      <td>14</td>\n",
              "      <td>19</td>\n",
              "      <td>1185</td>\n",
              "      <td>272</td>\n",
              "      <td>142</td>\n",
              "      <td>75</td>\n",
              "      <td>50</td>\n",
              "      <td>20</td>\n",
              "      <td>17</td>\n",
              "    </tr>\n",
              "    <tr>\n",
              "      <th>3</th>\n",
              "      <td>4</td>\n",
              "      <td>1</td>\n",
              "      <td>Dear Local Newspaper I have found that many ex...</td>\n",
              "      <td>10</td>\n",
              "      <td>27</td>\n",
              "      <td>19</td>\n",
              "      <td>2274</td>\n",
              "      <td>483</td>\n",
              "      <td>225</td>\n",
              "      <td>132</td>\n",
              "      <td>95</td>\n",
              "      <td>41</td>\n",
              "      <td>29</td>\n",
              "    </tr>\n",
              "    <tr>\n",
              "      <th>4</th>\n",
              "      <td>5</td>\n",
              "      <td>1</td>\n",
              "      <td>Dear I know having computers has a positive ef...</td>\n",
              "      <td>8</td>\n",
              "      <td>30</td>\n",
              "      <td>15</td>\n",
              "      <td>2023</td>\n",
              "      <td>461</td>\n",
              "      <td>196</td>\n",
              "      <td>109</td>\n",
              "      <td>90</td>\n",
              "      <td>28</td>\n",
              "      <td>35</td>\n",
              "    </tr>\n",
              "  </tbody>\n",
              "</table>\n",
              "</div>"
            ],
            "text/plain": [
              "   essay_id  essay_set  ... adjective_count  adverb_count\n",
              "0         1          1  ...              19            25\n",
              "1         2          1  ...              19            17\n",
              "2         3          1  ...              20            17\n",
              "3         4          1  ...              41            29\n",
              "4         5          1  ...              28            35\n",
              "\n",
              "[5 rows x 13 columns]"
            ]
          },
          "execution_count": 21,
          "metadata": {
            "tags": []
          },
          "output_type": "execute_result"
        }
      ],
      "source": [
        "df1.head()"
      ]
    },
    {
      "cell_type": "code",
      "execution_count": null,
      "metadata": {
        "id": "v1Z2_p3Wa4gH"
      },
      "outputs": [],
      "source": [
        "\"\"\"\n",
        "Making a ndarray for training set\n",
        "Features and label\n",
        "Also we need to tokenize the df\n",
        "\"\"\"\n",
        "\n",
        "\n",
        "from sklearn.feature_extraction.text import CountVectorizer\n",
        "cv = CountVectorizer(max_features = 1000, stop_words='english')\n",
        "features = cv.fit_transform(df['essay'])\n",
        "features = features.toarray()\n",
        "\n",
        "\n",
        "temp = df.iloc[:,[1,4,5,6,7,8,9,10,11,12]].values\n",
        "features = np.hstack((temp , features))\n",
        "#import numpy\n",
        "#numpy.savetxt(\"df.csv\", features , delimiter = \",\")\n"
      ]
    },
    {
      "cell_type": "code",
      "execution_count": null,
      "metadata": {
        "id": "SUtesx_TVqA1"
      },
      "outputs": [],
      "source": []
    },
    {
      "cell_type": "code",
      "execution_count": null,
      "metadata": {
        "id": "d-KGSUxIVE9F"
      },
      "outputs": [],
      "source": [
        "from sklearn.preprocessing import StandardScaler\n",
        "sc1 = StandardScaler()\n",
        "labels_1 = df1.iloc[:, [3]].values\n",
        "labels_1= sc1.fit_transform(labels_1)\n",
        "\n",
        "sc2 = StandardScaler()\n",
        "labels_2 = df2.iloc[:, [3]].values\n",
        "labels_2= sc2.fit_transform(labels_2)\n",
        "\n",
        "sc3 = StandardScaler()\n",
        "labels_3 = df3.iloc[:, [3]].values\n",
        "labels_3= sc3.fit_transform(labels_3)\n",
        "\n",
        "sc4 = StandardScaler()\n",
        "labels_4= df4.iloc[:, [3]].values\n",
        "labels_4= sc4.fit_transform(labels_4)\n",
        "\n",
        "sc5 = StandardScaler()\n",
        "labels_5 = df5.iloc[:, [3]].values\n",
        "labels_5= sc5.fit_transform(labels_5)\n",
        "\n",
        "sc6 = StandardScaler()\n",
        "labels_6 = df6.iloc[:, [3]].values\n",
        "labels_6= sc6.fit_transform(labels_6)\n",
        "\n",
        "sc7 = StandardScaler()\n",
        "labels_7 = df7.iloc[:, [3]].values\n",
        "labels_7= sc7.fit_transform(labels_7)\n",
        "\n",
        "sc8 = StandardScaler()\n",
        "labels_8 = df8.iloc[:, [3]].values\n",
        "labels_8= sc8.fit_transform(labels_8)\n",
        "\n"
      ]
    },
    {
      "cell_type": "code",
      "execution_count": null,
      "metadata": {
        "id": "_sCoyDjLXu2s"
      },
      "outputs": [],
      "source": [
        "labels = np.concatenate((labels_1,labels_2,labels_3,labels_4,labels_5,labels_6,labels_7,labels_8))"
      ]
    },
    {
      "cell_type": "code",
      "execution_count": null,
      "metadata": {
        "colab": {
          "base_uri": "https://localhost:8080/",
          "height": 35
        },
        "id": "y-YtS-82Yf50",
        "outputId": "bb2fe458-7bb4-42bd-855d-63fba64c1a52"
      },
      "outputs": [
        {
          "data": {
            "text/plain": [
              "((12976, 1), (12976, 1010))"
            ]
          },
          "execution_count": 25,
          "metadata": {
            "tags": []
          },
          "output_type": "execute_result"
        }
      ],
      "source": [
        "labels.shape , features.shape"
      ]
    },
    {
      "cell_type": "code",
      "execution_count": null,
      "metadata": {
        "colab": {
          "base_uri": "https://localhost:8080/",
          "height": 147
        },
        "id": "9OZ-x5UKJGU6",
        "outputId": "5fd2748d-f6a9-44ad-bf84-26d8b3ee19b3"
      },
      "outputs": [
        {
          "name": "stderr",
          "output_type": "stream",
          "text": [
            "/usr/local/lib/python3.6/dist-packages/sklearn/preprocessing/_encoders.py:415: FutureWarning: The handling of integer data will change in version 0.22. Currently, the categories are determined based on the range [0, max(values)], while in the future they will be determined based on the unique values.\n",
            "If you want the future behaviour and silence this warning, you can specify \"categories='auto'\".\n",
            "In case you used a LabelEncoder before this OneHotEncoder to convert the categories to integers, then you can now use the OneHotEncoder directly.\n",
            "  warnings.warn(msg, FutureWarning)\n",
            "/usr/local/lib/python3.6/dist-packages/sklearn/preprocessing/_encoders.py:451: DeprecationWarning: The 'categorical_features' keyword is deprecated in version 0.20 and will be removed in 0.22. You can use the ColumnTransformer instead.\n",
            "  \"use the ColumnTransformer instead.\", DeprecationWarning)\n"
          ]
        }
      ],
      "source": [
        "from sklearn.preprocessing import OneHotEncoder\n",
        "onehotencoder = OneHotEncoder(categorical_features= [0])\n",
        "features = onehotencoder.fit_transform(features).toarray()\n",
        "features = features[:,1:]"
      ]
    },
    {
      "cell_type": "code",
      "execution_count": null,
      "metadata": {
        "id": "Ivla9JthewUM"
      },
      "outputs": [],
      "source": [
        "from sklearn.preprocessing import StandardScaler\n",
        "sc = StandardScaler()\n",
        "features_train = sc.fit_transform(features)\n"
      ]
    },
    {
      "cell_type": "code",
      "execution_count": null,
      "metadata": {
        "colab": {
          "base_uri": "https://localhost:8080/",
          "height": 35
        },
        "id": "9VrwmXvHa4eL",
        "outputId": "18453012-1679-4177-e704-f26506d17516"
      },
      "outputs": [
        {
          "data": {
            "text/plain": [
              "1016"
            ]
          },
          "execution_count": 29,
          "metadata": {
            "tags": []
          },
          "output_type": "execute_result"
        }
      ],
      "source": [
        "len(features_train[1])"
      ]
    },
    {
      "cell_type": "code",
      "execution_count": null,
      "metadata": {
        "colab": {
          "base_uri": "https://localhost:8080/",
          "height": 54
        },
        "id": "M9LBaXZGdlOA",
        "outputId": "b4158f3d-fff3-4629-dca5-568d61e27f41"
      },
      "outputs": [
        {
          "data": {
            "text/plain": [
              "array([-0.40132208, -0.39169149, -0.39743062, -0.40196901, -0.40132208,\n",
              "       -0.37087346, -0.24291142,  0.29448142,  0.08861186,  0.71433258])"
            ]
          },
          "execution_count": 30,
          "metadata": {
            "tags": []
          },
          "output_type": "execute_result"
        }
      ],
      "source": [
        "features_train[0,:10]"
      ]
    },
    {
      "cell_type": "code",
      "execution_count": null,
      "metadata": {
        "id": "W-Lj4Ji1ggwb"
      },
      "outputs": [],
      "source": [
        "#from sklearn.model_selection import train_test_split\n",
        "#features_train, features_test, labels_train, labels_test = train_test_split(features_train, labels, test_size = 0.3, random_state = 0)\n"
      ]
    },
    {
      "cell_type": "code",
      "execution_count": null,
      "metadata": {
        "id": "fRd4snJwa4bb"
      },
      "outputs": [],
      "source": []
    },
    {
      "cell_type": "code",
      "execution_count": null,
      "metadata": {
        "colab": {
          "base_uri": "https://localhost:8080/",
          "height": 1000
        },
        "id": "UkPf1e6I3AaT",
        "outputId": "96cf224f-d917-4e53-be42-4f4a4322c0c9"
      },
      "outputs": [
        {
          "data": {
            "image/png": "[encoded data removed]",
            "text/plain": [
              "<Figure size 432x288 with 1 Axes>"
            ]
          },
          "metadata": {
            "tags": []
          },
          "output_type": "display_data"
        },
        {
          "data": {
            "image/png": "[encoded data removed]",
            "text/plain": [
              "<Figure size 432x288 with 1 Axes>"
            ]
          },
          "metadata": {
            "tags": []
          },
          "output_type": "display_data"
        },
        {
          "data": {
            "image/png": "[encoded data removed]",
            "text/plain": [
              "<Figure size 432x288 with 1 Axes>"
            ]
          },
          "metadata": {
            "tags": []
          },
          "output_type": "display_data"
        },
        {
          "data": {
            "image/png": "[encoded data removed]",
            "text/plain": [
              "<Figure size 432x288 with 1 Axes>"
            ]
          },
          "metadata": {
            "tags": []
          },
          "output_type": "display_data"
        },
        {
          "data": {
            "image/png": "[encoded data removed]",
            "text/plain": [
              "<Figure size 432x288 with 1 Axes>"
            ]
          },
          "metadata": {
            "tags": []
          },
          "output_type": "display_data"
        },
        {
          "data": {
            "image/png": "[encoded data removed]",
            "text/plain": [
              "<Figure size 432x288 with 1 Axes>"
            ]
          },
          "metadata": {
            "tags": []
          },
          "output_type": "display_data"
        },
        {
          "data": {
            "image/png": "[encoded data removed]",
            "text/plain": [
              "<Figure size 432x288 with 1 Axes>"
            ]
          },
          "metadata": {
            "tags": []
          },
          "output_type": "display_data"
        }
      ],
      "source": [
        "import matplotlib.pyplot as plt\n",
        "plt.scatter(x = df.iloc[:1783,3], y=df.iloc[:1783,4])\n",
        "plt.show()\n",
        "plt.scatter(x = df.iloc[:1783,3], y=df.iloc[:1783,5])\n",
        "plt.show()\n",
        "plt.scatter(x = df.iloc[:1783,3], y=df.iloc[:1783,6])\n",
        "plt.show()\n",
        "plt.scatter(x = df.iloc[:1783,3], y=df.iloc[:1783,7])\n",
        "plt.show()\n",
        "plt.scatter(x = df.iloc[:1783,3], y=df.iloc[:1783,8])\n",
        "plt.show()\n",
        "plt.scatter(x = df.iloc[:1783,3], y=df.iloc[:1783,9])\n",
        "plt.show()\n",
        "plt.scatter(x = df.iloc[:1783,3], y=df.iloc[:1783,3])\n",
        "plt.show()\n",
        "\n"
      ]
    },
    {
      "cell_type": "code",
      "execution_count": null,
      "metadata": {
        "colab": {
          "base_uri": "https://localhost:8080/",
          "height": 35
        },
        "id": "KAxWyVeA7J0i",
        "outputId": "a2230f4f-d873-4451-afe1-8d2660524f23"
      },
      "outputs": [
        {
          "data": {
            "text/plain": [
              "'\\nTraining from the data\\n'"
            ]
          },
          "execution_count": 33,
          "metadata": {
            "tags": []
          },
          "output_type": "execute_result"
        }
      ],
      "source": [
        "\"\"\"\n",
        "Training from the data\n",
        "\"\"\""
      ]
    },
    {
      "cell_type": "code",
      "execution_count": null,
      "metadata": {
        "colab": {
          "base_uri": "https://localhost:8080/",
          "height": 35
        },
        "id": "rVR8UyodewR-",
        "outputId": "bee16bed-7d82-4532-8fa2-95d1062e56b3"
      },
      "outputs": [
        {
          "name": "stderr",
          "output_type": "stream",
          "text": [
            "Using TensorFlow backend.\n"
          ]
        }
      ],
      "source": [
        "# Importing the Keras libraries and packages\n",
        "import keras\n",
        "from keras.models import Sequential\n",
        "from keras.layers import Dense"
      ]
    },
    {
      "cell_type": "code",
      "execution_count": null,
      "metadata": {
        "id": "5d-erQ33ewPU"
      },
      "outputs": [],
      "source": []
    },
    {
      "cell_type": "code",
      "execution_count": null,
      "metadata": {
        "id": "YZSyCSCVewLg"
      },
      "outputs": [],
      "source": []
    },
    {
      "cell_type": "code",
      "execution_count": null,
      "metadata": {
        "colab": {
          "base_uri": "https://localhost:8080/",
          "height": 202
        },
        "id": "MsDvBJLZewJN",
        "outputId": "6ef97623-a6b7-45c8-aa37-569dacae29b4"
      },
      "outputs": [
        {
          "name": "stderr",
          "output_type": "stream",
          "text": [
            "WARNING: Logging before flag parsing goes to stderr.\n",
            "W0721 14:52:52.919079 140078113052544 deprecation_wrapper.py:119] From /usr/local/lib/python3.6/dist-packages/keras/backend/tensorflow_backend.py:74: The name tf.get_default_graph is deprecated. Please use tf.compat.v1.get_default_graph instead.\n",
            "\n",
            "W0721 14:52:52.961202 140078113052544 deprecation_wrapper.py:119] From /usr/local/lib/python3.6/dist-packages/keras/backend/tensorflow_backend.py:517: The name tf.placeholder is deprecated. Please use tf.compat.v1.placeholder instead.\n",
            "\n",
            "W0721 14:52:52.968269 140078113052544 deprecation_wrapper.py:119] From /usr/local/lib/python3.6/dist-packages/keras/backend/tensorflow_backend.py:4138: The name tf.random_uniform is deprecated. Please use tf.random.uniform instead.\n",
            "\n",
            "W0721 14:52:53.019750 140078113052544 deprecation_wrapper.py:119] From /usr/local/lib/python3.6/dist-packages/keras/optimizers.py:790: The name tf.train.Optimizer is deprecated. Please use tf.compat.v1.train.Optimizer instead.\n",
            "\n"
          ]
        }
      ],
      "source": [
        "classifier = Sequential()\n",
        "\n",
        "#adding the first hidden layer\n",
        "classifier.add(Dense(units = 400, kernel_initializer = 'uniform', activation = 'relu', input_dim = 1016))\n",
        "\n",
        "# Adding the second hidden layer\n",
        "classifier.add(Dense(units = 200, kernel_initializer = 'uniform', activation = 'relu'))\n",
        "\n",
        "# Adding the third hidden layer\n",
        "classifier.add(Dense(units = 20, kernel_initializer = 'uniform', activation = 'relu'))\n",
        "\n",
        "# Adding the fourth hidden layer\n",
        "#classifier.add(Dense(units = 500, kernel_initializer = 'uniform', activation = 'relu'))\n",
        "\n",
        "# Adding the fifth hidden layer\n",
        "#classifier.add(Dense(units = 100, kernel_initializer = 'uniform', activation = 'relu'))\n",
        "\n",
        "\n",
        "# Adding the output layer\n",
        "classifier.add(Dense(units = 1, kernel_initializer = 'uniform'))\n",
        "\n",
        "# Compiling the ANN\n",
        "classifier.compile(optimizer = 'adam', loss = 'mean_absolute_error',metrics = [\"accuracy\"] )"
      ]
    },
    {
      "cell_type": "code",
      "execution_count": null,
      "metadata": {
        "colab": {
          "base_uri": "https://localhost:8080/",
          "height": 293
        },
        "id": "w5WAnWMUrrqo",
        "outputId": "f5643a8b-cec3-453b-84a3-953798f40434"
      },
      "outputs": [
        {
          "name": "stdout",
          "output_type": "stream",
          "text": [
            "_________________________________________________________________\n",
            "Layer (type)                 Output Shape              Param #   \n",
            "=================================================================\n",
            "dense_1 (Dense)              (None, 400)               406800    \n",
            "_________________________________________________________________\n",
            "dense_2 (Dense)              (None, 200)               80200     \n",
            "_________________________________________________________________\n",
            "dense_3 (Dense)              (None, 20)                4020      \n",
            "_________________________________________________________________\n",
            "dense_4 (Dense)              (None, 1)                 21        \n",
            "=================================================================\n",
            "Total params: 491,041\n",
            "Trainable params: 491,041\n",
            "Non-trainable params: 0\n",
            "_________________________________________________________________\n"
          ]
        }
      ],
      "source": [
        "classifier.summary()"
      ]
    },
    {
      "cell_type": "code",
      "execution_count": null,
      "metadata": {
        "id": "CbBYR4zKgZzT"
      },
      "outputs": [],
      "source": []
    },
    {
      "cell_type": "code",
      "execution_count": null,
      "metadata": {
        "colab": {
          "base_uri": "https://localhost:8080/",
          "height": 1000
        },
        "id": "SXfS82NqoE2j",
        "outputId": "b63fabd2-55c6-43f1-a29d-0762aedabb5d"
      },
      "outputs": [
        {
          "name": "stderr",
          "output_type": "stream",
          "text": [
            "W0721 14:53:20.682950 140078113052544 deprecation_wrapper.py:119] From /usr/local/lib/python3.6/dist-packages/keras/backend/tensorflow_backend.py:986: The name tf.assign_add is deprecated. Please use tf.compat.v1.assign_add instead.\n",
            "\n",
            "W0721 14:53:20.794413 140078113052544 deprecation_wrapper.py:119] From /usr/local/lib/python3.6/dist-packages/keras/backend/tensorflow_backend.py:973: The name tf.assign is deprecated. Please use tf.compat.v1.assign instead.\n",
            "\n"
          ]
        },
        {
          "name": "stdout",
          "output_type": "stream",
          "text": [
            "Epoch 1/50\n",
            "12976/12976 [==============================] - 4s 301us/step - loss: 0.7054 - acc: 0.0000e+00\n",
            "Epoch 2/50\n",
            "12976/12976 [==============================] - 0s 12us/step - loss: 0.5102 - acc: 0.0000e+00\n",
            "Epoch 3/50\n",
            "12976/12976 [==============================] - 0s 12us/step - loss: 0.4535 - acc: 0.0000e+00\n",
            "Epoch 4/50\n",
            "12976/12976 [==============================] - 0s 14us/step - loss: 0.4131 - acc: 0.0000e+00\n",
            "Epoch 5/50\n",
            "12976/12976 [==============================] - 0s 13us/step - loss: 0.3709 - acc: 0.0000e+00\n",
            "Epoch 6/50\n",
            "12976/12976 [==============================] - 0s 12us/step - loss: 0.3390 - acc: 0.0000e+00\n",
            "Epoch 7/50\n",
            "12976/12976 [==============================] - 0s 14us/step - loss: 0.3021 - acc: 0.0000e+00\n",
            "Epoch 8/50\n",
            "12976/12976 [==============================] - 0s 14us/step - loss: 0.2766 - acc: 0.0000e+00\n",
            "Epoch 9/50\n",
            "12976/12976 [==============================] - 0s 13us/step - loss: 0.2489 - acc: 0.0000e+00\n",
            "Epoch 10/50\n",
            "12976/12976 [==============================] - 0s 13us/step - loss: 0.2292 - acc: 0.0000e+00\n",
            "Epoch 11/50\n",
            "12976/12976 [==============================] - 0s 13us/step - loss: 0.2135 - acc: 0.0000e+00\n",
            "Epoch 12/50\n",
            "12976/12976 [==============================] - 0s 12us/step - loss: 0.1926 - acc: 0.0000e+00\n",
            "Epoch 13/50\n",
            "12976/12976 [==============================] - 0s 12us/step - loss: 0.1759 - acc: 0.0000e+00\n",
            "Epoch 14/50\n",
            "12976/12976 [==============================] - 0s 12us/step - loss: 0.1616 - acc: 0.0000e+00\n",
            "Epoch 15/50\n",
            "12976/12976 [==============================] - 0s 13us/step - loss: 0.1503 - acc: 0.0000e+00\n",
            "Epoch 16/50\n",
            "12976/12976 [==============================] - 0s 12us/step - loss: 0.1426 - acc: 0.0000e+00\n",
            "Epoch 17/50\n",
            "12976/12976 [==============================] - 0s 12us/step - loss: 0.1336 - acc: 0.0000e+00\n",
            "Epoch 18/50\n",
            "12976/12976 [==============================] - 0s 12us/step - loss: 0.1269 - acc: 0.0000e+00\n",
            "Epoch 19/50\n",
            "12976/12976 [==============================] - 0s 12us/step - loss: 0.1158 - acc: 0.0000e+00\n",
            "Epoch 20/50\n",
            "12976/12976 [==============================] - 0s 12us/step - loss: 0.1108 - acc: 0.0000e+00\n",
            "Epoch 21/50\n",
            "12976/12976 [==============================] - 0s 12us/step - loss: 0.1051 - acc: 0.0000e+00\n",
            "Epoch 22/50\n",
            "12976/12976 [==============================] - 0s 12us/step - loss: 0.1067 - acc: 0.0000e+00\n",
            "Epoch 23/50\n",
            "12976/12976 [==============================] - 0s 12us/step - loss: 0.0951 - acc: 0.0000e+00\n",
            "Epoch 24/50\n",
            "12976/12976 [==============================] - 0s 12us/step - loss: 0.0902 - acc: 0.0000e+00\n",
            "Epoch 25/50\n",
            "12976/12976 [==============================] - 0s 12us/step - loss: 0.0888 - acc: 0.0000e+00\n",
            "Epoch 26/50\n",
            "12976/12976 [==============================] - 0s 12us/step - loss: 0.0887 - acc: 0.0000e+00\n",
            "Epoch 27/50\n",
            "12976/12976 [==============================] - 0s 12us/step - loss: 0.0853 - acc: 0.0000e+00\n",
            "Epoch 28/50\n",
            "12976/12976 [==============================] - 0s 13us/step - loss: 0.0802 - acc: 0.0000e+00\n",
            "Epoch 29/50\n",
            "12976/12976 [==============================] - 0s 12us/step - loss: 0.0754 - acc: 0.0000e+00\n",
            "Epoch 30/50\n",
            "12976/12976 [==============================] - 0s 12us/step - loss: 0.0726 - acc: 0.0000e+00\n",
            "Epoch 31/50\n",
            "12976/12976 [==============================] - 0s 12us/step - loss: 0.0720 - acc: 0.0000e+00\n",
            "Epoch 32/50\n",
            "12976/12976 [==============================] - 0s 13us/step - loss: 0.0687 - acc: 0.0000e+00\n",
            "Epoch 33/50\n",
            "12976/12976 [==============================] - 0s 12us/step - loss: 0.0663 - acc: 0.0000e+00\n",
            "Epoch 34/50\n",
            "12976/12976 [==============================] - 0s 12us/step - loss: 0.0659 - acc: 0.0000e+00\n",
            "Epoch 35/50\n",
            "12976/12976 [==============================] - 0s 12us/step - loss: 0.0651 - acc: 0.0000e+00\n",
            "Epoch 36/50\n",
            "12976/12976 [==============================] - 0s 12us/step - loss: 0.0637 - acc: 0.0000e+00\n",
            "Epoch 37/50\n",
            "12976/12976 [==============================] - 0s 12us/step - loss: 0.0613 - acc: 0.0000e+00\n",
            "Epoch 38/50\n",
            "12976/12976 [==============================] - 0s 12us/step - loss: 0.0610 - acc: 0.0000e+00\n",
            "Epoch 39/50\n",
            "12976/12976 [==============================] - 0s 13us/step - loss: 0.0589 - acc: 0.0000e+00\n",
            "Epoch 40/50\n",
            "12976/12976 [==============================] - 0s 12us/step - loss: 0.0546 - acc: 0.0000e+00\n",
            "Epoch 41/50\n",
            "12976/12976 [==============================] - 0s 11us/step - loss: 0.0544 - acc: 0.0000e+00\n",
            "Epoch 42/50\n",
            "12976/12976 [==============================] - 0s 12us/step - loss: 0.0541 - acc: 0.0000e+00\n",
            "Epoch 43/50\n",
            "12976/12976 [==============================] - 0s 12us/step - loss: 0.0555 - acc: 0.0000e+00\n",
            "Epoch 44/50\n",
            "12976/12976 [==============================] - 0s 12us/step - loss: 0.0514 - acc: 0.0000e+00\n",
            "Epoch 45/50\n",
            "12976/12976 [==============================] - 0s 12us/step - loss: 0.0510 - acc: 0.0000e+00\n",
            "Epoch 46/50\n",
            "12976/12976 [==============================] - 0s 12us/step - loss: 0.0540 - acc: 0.0000e+00\n",
            "Epoch 47/50\n",
            "12976/12976 [==============================] - 0s 12us/step - loss: 0.0501 - acc: 0.0000e+00\n",
            "Epoch 48/50\n",
            "12976/12976 [==============================] - 0s 12us/step - loss: 0.0524 - acc: 0.0000e+00\n",
            "Epoch 49/50\n",
            "12976/12976 [==============================] - 0s 12us/step - loss: 0.0531 - acc: 0.0000e+00\n",
            "Epoch 50/50\n",
            "12976/12976 [==============================] - 0s 12us/step - loss: 0.0497 - acc: 0.0000e+00\n"
          ]
        },
        {
          "data": {
            "text/plain": [
              "<keras.callbacks.History at 0x7f664164bba8>"
            ]
          },
          "execution_count": 34,
          "metadata": {
            "tags": []
          },
          "output_type": "execute_result"
        }
      ],
      "source": [
        "classifier.fit(features_train , labels,epochs = 50 , batch_size = 506)"
      ]
    },
    {
      "cell_type": "code",
      "execution_count": null,
      "metadata": {
        "id": "vCB7LFXH_ru8"
      },
      "outputs": [],
      "source": [
        "# Standard scaler of th labels of 8 essay set\n",
        "sc_obj_label = []\n",
        "sc_obj_label.extend([sc1,sc2,sc3,sc4,sc5,sc6,sc7,sc8])"
      ]
    },
    {
      "cell_type": "code",
      "execution_count": null,
      "metadata": {
        "id": "9Fsr5XgPAQwN"
      },
      "outputs": [],
      "source": [
        "obj_features = []\n",
        "obj_features.append(cv)              #Bag of words\n",
        "obj_features.append(onehotencoder)   #essay set"
      ]
    },
    {
      "cell_type": "code",
      "execution_count": null,
      "metadata": {
        "id": "cUxD6OguA0EW"
      },
      "outputs": [],
      "source": [
        "obj_features.append(sc)              #Standard scaler"
      ]
    },
    {
      "cell_type": "code",
      "execution_count": null,
      "metadata": {
        "id": "rvBJttRgBwkl"
      },
      "outputs": [],
      "source": [
        "obj_features.append(classifier)"
      ]
    },
    {
      "cell_type": "code",
      "execution_count": null,
      "metadata": {
        "id": "zR9DuZFbChoO"
      },
      "outputs": [],
      "source": [
        "obj_features.extend([sc1,sc2,sc3,sc4,sc5,sc6,sc7,sc8])"
      ]
    },
    {
      "cell_type": "code",
      "execution_count": null,
      "metadata": {
        "colab": {
          "base_uri": "https://localhost:8080/",
          "height": 366
        },
        "id": "sY_Hia-PB5mT",
        "outputId": "ec3a58f3-aeb5-4761-f10e-ab1757cf3f68"
      },
      "outputs": [
        {
          "data": {
            "text/plain": [
              "[CountVectorizer(analyzer='word', binary=False, decode_error='strict',\n",
              "                 dtype=<class 'numpy.int64'>, encoding='utf-8', input='content',\n",
              "                 lowercase=True, max_df=1.0, max_features=1000, min_df=1,\n",
              "                 ngram_range=(1, 1), preprocessor=None, stop_words='english',\n",
              "                 strip_accents=None, token_pattern='(?u)\\\\b\\\\w\\\\w+\\\\b',\n",
              "                 tokenizer=None, vocabulary=None),\n",
              " OneHotEncoder(categorical_features=[0], categories=None, drop=None,\n",
              "               dtype=<class 'numpy.float64'>, handle_unknown='error',\n",
              "               n_values=None, sparse=True),\n",
              " StandardScaler(copy=True, with_mean=True, with_std=True),\n",
              " <keras.engine.sequential.Sequential at 0x7f6642d68fd0>,\n",
              " StandardScaler(copy=True, with_mean=True, with_std=True),\n",
              " StandardScaler(copy=True, with_mean=True, with_std=True),\n",
              " StandardScaler(copy=True, with_mean=True, with_std=True),\n",
              " StandardScaler(copy=True, with_mean=True, with_std=True),\n",
              " StandardScaler(copy=True, with_mean=True, with_std=True),\n",
              " StandardScaler(copy=True, with_mean=True, with_std=True),\n",
              " StandardScaler(copy=True, with_mean=True, with_std=True),\n",
              " StandardScaler(copy=True, with_mean=True, with_std=True)]"
            ]
          },
          "execution_count": 39,
          "metadata": {
            "tags": []
          },
          "output_type": "execute_result"
        }
      ],
      "source": [
        "obj_features"
      ]
    },
    {
      "cell_type": "code",
      "execution_count": null,
      "metadata": {
        "id": "lgz7yYdPQjBq"
      },
      "outputs": [],
      "source": [
        "import pickle\n",
        "with open('/content/drive/My Drive/Essay_score/model_new_1.pickle', \"wb\") as f:\n",
        "  pickle.dump(len(obj_features), f)\n",
        "  for value in obj_features:\n",
        "      pickle.dump(value, f)"
      ]
    },
    {
      "cell_type": "code",
      "execution_count": null,
      "metadata": {
        "id": "yLnCoALsR0xr"
      },
      "outputs": [],
      "source": [
        "model_list = []\n",
        "with open('/content/drive/My Drive/Essay_score/model_new.pickle', \"rb\") as f:\n",
        "    for _ in range(pickle.load(f)):\n",
        "        model_list.append(pickle.load(f))\n"
      ]
    },
    {
      "cell_type": "code",
      "execution_count": null,
      "metadata": {
        "colab": {
          "base_uri": "https://localhost:8080/",
          "height": 35
        },
        "id": "HI8mopMuSpN0",
        "outputId": "a7298704-e977-4b14-ae2d-097489cc8fbd"
      },
      "outputs": [
        {
          "data": {
            "text/plain": [
              "<keras.engine.sequential.Sequential at 0x7fecfd17b048>"
            ]
          },
          "execution_count": 53,
          "metadata": {
            "tags": []
          },
          "output_type": "execute_result"
        }
      ],
      "source": [
        "model_list[3]"
      ]
    },
    {
      "cell_type": "code",
      "execution_count": null,
      "metadata": {
        "id": "Xhc3rnvWRmPN"
      },
      "outputs": [],
      "source": [
        "model_pred = model_list[3].predict(features_test)"
      ]
    },
    {
      "cell_type": "code",
      "execution_count": null,
      "metadata": {
        "id": "3cA26kHOSMFO"
      },
      "outputs": [],
      "source": [
        "model_pred1 = sc1.inverse_transform(model_pred[:valid_list[0]])\n",
        "model_pred2 = sc2.inverse_transform(model_pred[valid_list[0]:valid_list[1]])\n",
        "model_pred3 = sc3.inverse_transform(model_pred[valid_list[1]:valid_list[2]])\n",
        "model_pred4 = sc4.inverse_transform(model_pred[valid_list[2]:valid_list[3]])\n",
        "model_pred5 = sc5.inverse_transform(model_pred[valid_list[3]:valid_list[4]])\n",
        "model_pred6 = sc6.inverse_transform(model_pred[valid_list[4]:valid_list[5]])\n",
        "model_pred7 = sc7.inverse_transform(model_pred[valid_list[5]:valid_list[6]])\n",
        "model_pred8 = sc8.inverse_transform(model_pred[valid_list[6]:valid_list[7]])"
      ]
    },
    {
      "cell_type": "code",
      "execution_count": null,
      "metadata": {
        "id": "kak53eyHMyk7"
      },
      "outputs": [],
      "source": [
        "model_pred = np.concatenate((model_pred1,model_pred2,model_pred3,model_pred4,model_pred5,model_pred6,model_pred7,model_pred8),axis = 0)"
      ]
    },
    {
      "cell_type": "code",
      "execution_count": null,
      "metadata": {
        "id": "x7bMGmGGVEyU"
      },
      "outputs": [],
      "source": [
        "model_pred = model_pred.astype('int64')"
      ]
    },
    {
      "cell_type": "code",
      "execution_count": null,
      "metadata": {
        "colab": {
          "base_uri": "https://localhost:8080/",
          "height": 340
        },
        "id": "Q0DX_PddULci",
        "outputId": "52ae733e-62c4-48c9-e472-81f427b4cf18"
      },
      "outputs": [
        {
          "data": {
            "text/plain": [
              "(array([[8],\n",
              "        [7],\n",
              "        [8],\n",
              "        [8],\n",
              "        [8],\n",
              "        [8],\n",
              "        [8],\n",
              "        [9],\n",
              "        [8],\n",
              "        [9]]), array([[8],\n",
              "        [7],\n",
              "        [8],\n",
              "        [8],\n",
              "        [8],\n",
              "        [8],\n",
              "        [8],\n",
              "        [9],\n",
              "        [8],\n",
              "        [9]], dtype=int32))"
            ]
          },
          "execution_count": 70,
          "metadata": {
            "tags": []
          },
          "output_type": "execute_result"
        }
      ],
      "source": [
        "model_pred[:10] , labels_pred[:10]"
      ]
    },
    {
      "cell_type": "code",
      "execution_count": null,
      "metadata": {
        "id": "mFyou3RCjBS8"
      },
      "outputs": [],
      "source": [
        "mode_pred = modelmodel_preddf_test = 0\n",
        "valid_score = 0"
      ]
    },
    {
      "cell_type": "code",
      "execution_count": null,
      "metadata": {
        "id": "EVLRf41gjBQc"
      },
      "outputs": [],
      "source": [
        "df_test = pd.read_csv('valid_set.tsv' , delimiter = '\\t' , encoding = 'charmap')\n",
        "valid_score = pd.read_csv('valid_sample_submission_5_column.csv' , encoding = 'charmap')"
      ]
    },
    {
      "cell_type": "code",
      "execution_count": null,
      "metadata": {
        "colab": {
          "base_uri": "https://localhost:8080/",
          "height": 260
        },
        "id": "iCVIwkmNrsBz",
        "outputId": "49808393-fd64-4a59-e0e3-9515c8efd4b2"
      },
      "outputs": [
        {
          "data": {
            "text/plain": [
              "(   essay_id  essay_set  ... domain1_predictionid  domain2_predictionid\n",
              " 0      1788          1  ...                 1788                   NaN\n",
              " 1      1789          1  ...                 1789                   NaN\n",
              " 2      1790          1  ...                 1790                   NaN\n",
              " 3      1791          1  ...                 1791                   NaN\n",
              " 4      1792          1  ...                 1792                   NaN\n",
              " \n",
              " [5 rows x 5 columns],\n",
              "    prediction_id  essay_id  essay_set  essay_weight  predicted_score\n",
              " 0           1788      1788          1           1.0                7\n",
              " 1           1789      1789          1           1.0                8\n",
              " 2           1790      1790          1           1.0                9\n",
              " 3           1791      1791          1           1.0                9\n",
              " 4           1792      1792          1           1.0                9)"
            ]
          },
          "execution_count": 47,
          "metadata": {
            "tags": []
          },
          "output_type": "execute_result"
        }
      ],
      "source": [
        "df_test.head(),valid_score.head()"
      ]
    },
    {
      "cell_type": "code",
      "execution_count": null,
      "metadata": {
        "colab": {
          "base_uri": "https://localhost:8080/",
          "height": 35
        },
        "id": "EPXRqnWaxYTa",
        "outputId": "bea85082-b21f-4e6a-8e39-a9bf7a8c926a"
      },
      "outputs": [
        {
          "data": {
            "text/plain": [
              "(4218, 4818)"
            ]
          },
          "execution_count": 48,
          "metadata": {
            "tags": []
          },
          "output_type": "execute_result"
        }
      ],
      "source": [
        "len(df_test['essay_id']),len(valid_score['essay_id'])"
      ]
    },
    {
      "cell_type": "code",
      "execution_count": null,
      "metadata": {
        "id": "gRMvp5jYrm4F"
      },
      "outputs": [],
      "source": [
        "list1 = []\n",
        "def present(x):\n",
        "  if int(x) not in list1:\n",
        "    list1.append(int(x))\n",
        "    return 1\n",
        "  else:\n",
        "    return np.NaN\n",
        "valid_score['present'] = valid_score['essay_id'].apply(present)"
      ]
    },
    {
      "cell_type": "code",
      "execution_count": null,
      "metadata": {
        "colab": {
          "base_uri": "https://localhost:8080/",
          "height": 35
        },
        "id": "6_OUp63isgrs",
        "outputId": "c437ebbb-e64d-45ef-b200-f169f59e9b9f"
      },
      "outputs": [
        {
          "data": {
            "text/plain": [
              "array([ 1., nan])"
            ]
          },
          "execution_count": 50,
          "metadata": {
            "tags": []
          },
          "output_type": "execute_result"
        }
      ],
      "source": [
        "valid_score['present'].unique()"
      ]
    },
    {
      "cell_type": "code",
      "execution_count": null,
      "metadata": {
        "id": "eIlxU-dyzYI7"
      },
      "outputs": [],
      "source": [
        "valid_score = valid_score.dropna(axis = 0)"
      ]
    },
    {
      "cell_type": "code",
      "execution_count": null,
      "metadata": {
        "colab": {
          "base_uri": "https://localhost:8080/",
          "height": 35
        },
        "id": "slCBxGMasqJE",
        "outputId": "3e22f9e5-e4ac-4f27-ceb4-85d11085d2e2"
      },
      "outputs": [
        {
          "data": {
            "text/plain": [
              "((4218, 5), (4218, 6))"
            ]
          },
          "execution_count": 52,
          "metadata": {
            "tags": []
          },
          "output_type": "execute_result"
        }
      ],
      "source": [
        "df_test.shape , valid_score.shape"
      ]
    },
    {
      "cell_type": "code",
      "execution_count": null,
      "metadata": {
        "colab": {
          "base_uri": "https://localhost:8080/",
          "height": 110
        },
        "id": "Q9vFGWuzz2Dh",
        "outputId": "dd144ccb-a17f-4a10-fce8-0a5a6586766a"
      },
      "outputs": [
        {
          "data": {
            "text/html": [
              "<div>\n",
              "<style scoped>\n",
              "    .dataframe tbody tr th:only-of-type {\n",
              "        vertical-align: middle;\n",
              "    }\n",
              "\n",
              "    .dataframe tbody tr th {\n",
              "        vertical-align: top;\n",
              "    }\n",
              "\n",
              "    .dataframe thead th {\n",
              "        text-align: right;\n",
              "    }\n",
              "</style>\n",
              "<table border=\"1\" class=\"dataframe\">\n",
              "  <thead>\n",
              "    <tr style=\"text-align: right;\">\n",
              "      <th></th>\n",
              "      <th>essay_id</th>\n",
              "      <th>essay_set</th>\n",
              "      <th>essay</th>\n",
              "      <th>domain1_predictionid</th>\n",
              "      <th>domain2_predictionid</th>\n",
              "    </tr>\n",
              "  </thead>\n",
              "  <tbody>\n",
              "    <tr>\n",
              "      <th>0</th>\n",
              "      <td>1788</td>\n",
              "      <td>1</td>\n",
              "      <td>Dear @ORGANIZATION1, @CAPS1 more and more peop...</td>\n",
              "      <td>1788</td>\n",
              "      <td>NaN</td>\n",
              "    </tr>\n",
              "    <tr>\n",
              "      <th>1</th>\n",
              "      <td>1789</td>\n",
              "      <td>1</td>\n",
              "      <td>Dear @LOCATION1 Time @CAPS1 me tell you what I...</td>\n",
              "      <td>1789</td>\n",
              "      <td>NaN</td>\n",
              "    </tr>\n",
              "  </tbody>\n",
              "</table>\n",
              "</div>"
            ],
            "text/plain": [
              "   essay_id  essay_set  ... domain1_predictionid  domain2_predictionid\n",
              "0      1788          1  ...                 1788                   NaN\n",
              "1      1789          1  ...                 1789                   NaN\n",
              "\n",
              "[2 rows x 5 columns]"
            ]
          },
          "execution_count": 53,
          "metadata": {
            "tags": []
          },
          "output_type": "execute_result"
        }
      ],
      "source": [
        "df_test.head(2)"
      ]
    },
    {
      "cell_type": "code",
      "execution_count": null,
      "metadata": {
        "id": "fFr1MkLHzd0b"
      },
      "outputs": [],
      "source": [
        "df_test = df_test.iloc[:,[0,1,2]]"
      ]
    },
    {
      "cell_type": "code",
      "execution_count": null,
      "metadata": {
        "id": "YwWWoWTksEf5"
      },
      "outputs": [],
      "source": [
        "df_test['sent_count'] = df_test['essay'].apply(sent_count)"
      ]
    },
    {
      "cell_type": "code",
      "execution_count": null,
      "metadata": {
        "id": "BbkrJaml3k2l"
      },
      "outputs": [],
      "source": [
        "df_test['av_sent_len'] = df_test['essay'].apply(av_sent_len)"
      ]
    },
    {
      "cell_type": "code",
      "execution_count": null,
      "metadata": {
        "id": "1FPH7kq83yX0"
      },
      "outputs": [],
      "source": [
        "df_test['essay'] = df_test['essay'].apply(clean_essay)"
      ]
    },
    {
      "cell_type": "code",
      "execution_count": null,
      "metadata": {
        "id": "zxxIGtzL30A3"
      },
      "outputs": [],
      "source": [
        "df_test['word_count'] = df_test['essay'].apply(word_count)"
      ]
    },
    {
      "cell_type": "code",
      "execution_count": null,
      "metadata": {
        "id": "3nz4xbQ1310c"
      },
      "outputs": [],
      "source": [
        "df_test['uni_word_count'] = df_test['essay'].apply(uni_word_count)"
      ]
    },
    {
      "cell_type": "code",
      "execution_count": null,
      "metadata": {
        "id": "iGPRLO6733jF"
      },
      "outputs": [],
      "source": [
        "df_test['noun_count'] = df_test['essay'].apply(noun_count)"
      ]
    },
    {
      "cell_type": "code",
      "execution_count": null,
      "metadata": {
        "id": "tcKs1yhj35Gu"
      },
      "outputs": [],
      "source": [
        "df_test['verb_count'] = df_test['essay'].apply(verb_count)"
      ]
    },
    {
      "cell_type": "code",
      "execution_count": null,
      "metadata": {
        "id": "EvN3VlAw3uvA"
      },
      "outputs": [],
      "source": [
        "df1_test = df_test[df_test['essay_set'] == 1]\n",
        "df2_test = df_test[df_test['essay_set'] == 2]\n",
        "df3_test = df_test[df_test['essay_set'] == 3]\n",
        "df4_test = df_test[df_test['essay_set'] == 4]\n",
        "\n",
        "df5_test = df_test[df_test['essay_set'] == 5]\n",
        "df6_test = df_test[df_test['essay_set'] == 6]\n",
        "df7_test = df_test[df_test['essay_set'] == 7]\n",
        "df8_test = df_test[df_test['essay_set'] == 8]\n"
      ]
    },
    {
      "cell_type": "code",
      "execution_count": null,
      "metadata": {
        "id": "dzK0EhBf3w7v"
      },
      "outputs": [],
      "source": [
        "valid_score1 = valid_score[valid_score['essay_set'] == 1]\n",
        "valid_score2 = valid_score[valid_score['essay_set'] == 2]\n",
        "valid_score3 = valid_score[valid_score['essay_set'] == 3]\n",
        "valid_score4 = valid_score[valid_score['essay_set'] == 4]\n",
        "\n",
        "valid_score5 = valid_score[valid_score['essay_set'] == 5]\n",
        "valid_score6 = valid_score[valid_score['essay_set'] == 6]\n",
        "valid_score7 = valid_score[valid_score['essay_set'] == 7]\n",
        "valid_score8 = valid_score[valid_score['essay_set'] == 8]\n",
        "\n"
      ]
    },
    {
      "cell_type": "code",
      "execution_count": null,
      "metadata": {
        "colab": {
          "base_uri": "https://localhost:8080/",
          "height": 156
        },
        "id": "qmsN_vvmofXt",
        "outputId": "0594510d-2c43-4637-b7a6-2797ba0f2f7f"
      },
      "outputs": [
        {
          "data": {
            "text/plain": [
              "((589, 9),\n",
              " (600, 9),\n",
              " (568, 9),\n",
              " (586, 9),\n",
              " (601, 9),\n",
              " (600, 9),\n",
              " (441, 9),\n",
              " (233, 9))"
            ]
          },
          "execution_count": 64,
          "metadata": {
            "tags": []
          },
          "output_type": "execute_result"
        }
      ],
      "source": [
        "df1_test.shape ,df2_test.shape ,df3_test.shape ,df4_test.shape ,df5_test.shape ,df6_test.shape ,df7_test.shape ,df8_test.shape"
      ]
    },
    {
      "cell_type": "code",
      "execution_count": null,
      "metadata": {
        "id": "M7ia-s1j3bGJ"
      },
      "outputs": [],
      "source": [
        "valid_shape = [valid_score1.shape,valid_score2.shape,valid_score3.shape,valid_score4.shape,valid_score5.shape,valid_score6.shape,valid_score7.shape,valid_score8.shape]"
      ]
    },
    {
      "cell_type": "code",
      "execution_count": null,
      "metadata": {
        "colab": {
          "base_uri": "https://localhost:8080/",
          "height": 156
        },
        "id": "2WtLCvFV2ral",
        "outputId": "3a89efa4-3811-407e-c236-9836fc91a910"
      },
      "outputs": [
        {
          "data": {
            "text/plain": [
              "[(589, 6),\n",
              " (600, 6),\n",
              " (568, 6),\n",
              " (586, 6),\n",
              " (601, 6),\n",
              " (600, 6),\n",
              " (441, 6),\n",
              " (233, 6)]"
            ]
          },
          "execution_count": 66,
          "metadata": {
            "tags": []
          },
          "output_type": "execute_result"
        }
      ],
      "source": [
        "valid_shape"
      ]
    },
    {
      "cell_type": "code",
      "execution_count": null,
      "metadata": {
        "id": "zBGIcv812xWj"
      },
      "outputs": [],
      "source": []
    },
    {
      "cell_type": "code",
      "execution_count": null,
      "metadata": {
        "id": "VG2ycTYV3i9g"
      },
      "outputs": [],
      "source": [
        "features_test = cv.transform(df_test['essay'])\n",
        "features_test = features_test.toarray()"
      ]
    },
    {
      "cell_type": "code",
      "execution_count": null,
      "metadata": {
        "colab": {
          "base_uri": "https://localhost:8080/",
          "height": 35
        },
        "id": "JF3kAyNC0JbI",
        "outputId": "089ca8cb-82df-40ab-e1a8-27230c34bde7"
      },
      "outputs": [
        {
          "data": {
            "text/plain": [
              "(4218, 3000)"
            ]
          },
          "execution_count": 68,
          "metadata": {
            "tags": []
          },
          "output_type": "execute_result"
        }
      ],
      "source": [
        "features_test.shape"
      ]
    },
    {
      "cell_type": "code",
      "execution_count": null,
      "metadata": {
        "colab": {
          "base_uri": "https://localhost:8080/",
          "height": 110
        },
        "id": "JWFhyYHR4XQq",
        "outputId": "dc90b312-82e4-42d2-806d-eb88fda85eea"
      },
      "outputs": [
        {
          "data": {
            "text/html": [
              "<div>\n",
              "<style scoped>\n",
              "    .dataframe tbody tr th:only-of-type {\n",
              "        vertical-align: middle;\n",
              "    }\n",
              "\n",
              "    .dataframe tbody tr th {\n",
              "        vertical-align: top;\n",
              "    }\n",
              "\n",
              "    .dataframe thead th {\n",
              "        text-align: right;\n",
              "    }\n",
              "</style>\n",
              "<table border=\"1\" class=\"dataframe\">\n",
              "  <thead>\n",
              "    <tr style=\"text-align: right;\">\n",
              "      <th></th>\n",
              "      <th>essay_id</th>\n",
              "      <th>essay_set</th>\n",
              "      <th>essay</th>\n",
              "      <th>sent_count</th>\n",
              "      <th>av_sent_len</th>\n",
              "      <th>word_count</th>\n",
              "      <th>uni_word_count</th>\n",
              "      <th>noun_count</th>\n",
              "      <th>verb_count</th>\n",
              "    </tr>\n",
              "  </thead>\n",
              "  <tbody>\n",
              "    <tr>\n",
              "      <th>0</th>\n",
              "      <td>1788</td>\n",
              "      <td>1</td>\n",
              "      <td>Dear more and more people start to use compute...</td>\n",
              "      <td>13</td>\n",
              "      <td>17</td>\n",
              "      <td>221</td>\n",
              "      <td>117</td>\n",
              "      <td>50</td>\n",
              "      <td>47</td>\n",
              "    </tr>\n",
              "    <tr>\n",
              "      <th>1</th>\n",
              "      <td>1789</td>\n",
              "      <td>1</td>\n",
              "      <td>Dear Time me tell you what I think of computer...</td>\n",
              "      <td>21</td>\n",
              "      <td>14</td>\n",
              "      <td>306</td>\n",
              "      <td>149</td>\n",
              "      <td>67</td>\n",
              "      <td>61</td>\n",
              "    </tr>\n",
              "  </tbody>\n",
              "</table>\n",
              "</div>"
            ],
            "text/plain": [
              "   essay_id  essay_set  ... noun_count  verb_count\n",
              "0      1788          1  ...         50          47\n",
              "1      1789          1  ...         67          61\n",
              "\n",
              "[2 rows x 9 columns]"
            ]
          },
          "execution_count": 69,
          "metadata": {
            "tags": []
          },
          "output_type": "execute_result"
        }
      ],
      "source": [
        "df_test.head(2)"
      ]
    },
    {
      "cell_type": "code",
      "execution_count": null,
      "metadata": {
        "id": "UtFq1ASesEdC"
      },
      "outputs": [],
      "source": [
        "temp_test = df_test.iloc[:,[1,3,5,6,7,8]].values\n",
        "features_test = np.hstack((temp_test , features_test))\n"
      ]
    },
    {
      "cell_type": "code",
      "execution_count": null,
      "metadata": {
        "colab": {
          "base_uri": "https://localhost:8080/",
          "height": 35
        },
        "id": "6dEq03cJ6CWX",
        "outputId": "26bca9ff-fe1a-4848-a8c1-370d041a8e8a"
      },
      "outputs": [
        {
          "data": {
            "text/plain": [
              "((4218, 3006), (4218, 6))"
            ]
          },
          "execution_count": 71,
          "metadata": {
            "tags": []
          },
          "output_type": "execute_result"
        }
      ],
      "source": [
        "features_test.shape , temp_test.shape"
      ]
    },
    {
      "cell_type": "code",
      "execution_count": null,
      "metadata": {
        "colab": {
          "base_uri": "https://localhost:8080/",
          "height": 35
        },
        "id": "Y1ppUNxNsEa5",
        "outputId": "535c2115-95c5-434a-ce06-3ef1c914122c"
      },
      "outputs": [
        {
          "data": {
            "text/plain": [
              "(4218, 3006)"
            ]
          },
          "execution_count": 72,
          "metadata": {
            "tags": []
          },
          "output_type": "execute_result"
        }
      ],
      "source": [
        "features_test.shape"
      ]
    },
    {
      "cell_type": "code",
      "execution_count": null,
      "metadata": {
        "colab": {
          "base_uri": "https://localhost:8080/",
          "height": 35
        },
        "id": "MEXQT8wE6bLh",
        "outputId": "10f3a55d-8f39-4661-b5a1-129e216fb27b"
      },
      "outputs": [
        {
          "data": {
            "text/plain": [
              "(4218, 3013)"
            ]
          },
          "execution_count": 73,
          "metadata": {
            "tags": []
          },
          "output_type": "execute_result"
        }
      ],
      "source": [
        "features_test = onehotencoder.transform(features_test).toarray()\n",
        "features_test.shape"
      ]
    },
    {
      "cell_type": "code",
      "execution_count": null,
      "metadata": {
        "colab": {
          "base_uri": "https://localhost:8080/",
          "height": 35
        },
        "id": "_RMy6JRj6jRq",
        "outputId": "39cce69c-8c4f-476f-807d-7180c843db3a"
      },
      "outputs": [
        {
          "data": {
            "text/plain": [
              "(4218, 3012)"
            ]
          },
          "execution_count": 74,
          "metadata": {
            "tags": []
          },
          "output_type": "execute_result"
        }
      ],
      "source": [
        "features_test = features_test[:,1:]\n",
        "features_test.shape"
      ]
    },
    {
      "cell_type": "code",
      "execution_count": null,
      "metadata": {
        "id": "nybpfb4oMZOJ"
      },
      "outputs": [],
      "source": [
        "features_test = sc.transform(features_test)"
      ]
    },
    {
      "cell_type": "code",
      "execution_count": null,
      "metadata": {
        "colab": {
          "base_uri": "https://localhost:8080/",
          "height": 35
        },
        "id": "sjNQ0pHk3d10",
        "outputId": "e0f552db-50e1-4369-ea04-08bdb8687397"
      },
      "outputs": [
        {
          "data": {
            "text/plain": [
              "(4218, 3012)"
            ]
          },
          "execution_count": 76,
          "metadata": {
            "tags": []
          },
          "output_type": "execute_result"
        }
      ],
      "source": [
        "features_test.shape"
      ]
    },
    {
      "cell_type": "code",
      "execution_count": null,
      "metadata": {
        "id": "edrNoU7f3dzF"
      },
      "outputs": [],
      "source": [
        "labels_pred = classifier.predict(features_test)"
      ]
    },
    {
      "cell_type": "code",
      "execution_count": null,
      "metadata": {
        "colab": {
          "base_uri": "https://localhost:8080/",
          "height": 35
        },
        "id": "nRv9ww933dwH",
        "outputId": "dafdf7b1-2a6c-4e77-8260-9188aa5a9f82"
      },
      "outputs": [
        {
          "data": {
            "text/plain": [
              "4218"
            ]
          },
          "execution_count": 78,
          "metadata": {
            "tags": []
          },
          "output_type": "execute_result"
        }
      ],
      "source": [
        "len(labels_pred)"
      ]
    },
    {
      "cell_type": "code",
      "execution_count": null,
      "metadata": {
        "colab": {
          "base_uri": "https://localhost:8080/",
          "height": 156
        },
        "id": "FW36MGAK8Tc3",
        "outputId": "0e700807-3a08-40c9-e937-e03e2eb6a4eb"
      },
      "outputs": [
        {
          "data": {
            "text/plain": [
              "[(589, 6),\n",
              " (600, 6),\n",
              " (568, 6),\n",
              " (586, 6),\n",
              " (601, 6),\n",
              " (600, 6),\n",
              " (441, 6),\n",
              " (233, 6)]"
            ]
          },
          "execution_count": 79,
          "metadata": {
            "tags": []
          },
          "output_type": "execute_result"
        }
      ],
      "source": [
        "valid_shape"
      ]
    },
    {
      "cell_type": "code",
      "execution_count": null,
      "metadata": {
        "id": "Br6Bn8au8iNj"
      },
      "outputs": [],
      "source": []
    },
    {
      "cell_type": "code",
      "execution_count": null,
      "metadata": {
        "id": "GwX6BZbN8Wk4"
      },
      "outputs": [],
      "source": [
        "valid_list = []\n",
        "sum = 0\n",
        "for i in valid_shape:\n",
        "  sum = sum + i[0]\n",
        "  valid_list.append(sum)"
      ]
    },
    {
      "cell_type": "code",
      "execution_count": null,
      "metadata": {
        "colab": {
          "base_uri": "https://localhost:8080/",
          "height": 35
        },
        "id": "8dLlXP8V9EyT",
        "outputId": "e6c66f86-98e0-49e6-b46b-ba0c9651e33e"
      },
      "outputs": [
        {
          "data": {
            "text/plain": [
              "[589, 1189, 1757, 2343, 2944, 3544, 3985, 4218]"
            ]
          },
          "execution_count": 81,
          "metadata": {
            "tags": []
          },
          "output_type": "execute_result"
        }
      ],
      "source": [
        "valid_list"
      ]
    },
    {
      "cell_type": "code",
      "execution_count": null,
      "metadata": {
        "id": "GiAFQ26E3dsc"
      },
      "outputs": [],
      "source": [
        "labels_pred1 = sc1.inverse_transform(labels_pred[:valid_list[0]])\n",
        "labels_pred2 = sc2.inverse_transform(labels_pred[valid_list[0]:valid_list[1]])\n",
        "labels_pred3 = sc3.inverse_transform(labels_pred[valid_list[1]:valid_list[2]])\n",
        "labels_pred4 = sc4.inverse_transform(labels_pred[valid_list[2]:valid_list[3]])\n",
        "labels_pred5 = sc5.inverse_transform(labels_pred[valid_list[3]:valid_list[4]])\n",
        "labels_pred6 = sc6.inverse_transform(labels_pred[valid_list[4]:valid_list[5]])\n",
        "labels_pred7 = sc7.inverse_transform(labels_pred[valid_list[5]:valid_list[6]])\n",
        "labels_pred8 = sc8.inverse_transform(labels_pred[valid_list[6]:valid_list[7]])"
      ]
    },
    {
      "cell_type": "code",
      "execution_count": null,
      "metadata": {
        "id": "3D5Oqjao961_"
      },
      "outputs": [],
      "source": [
        "labels_pred = np.concatenate((labels_pred1,labels_pred2,labels_pred3,labels_pred4,labels_pred5,labels_pred6,labels_pred7,labels_pred8),axis = 0)"
      ]
    },
    {
      "cell_type": "code",
      "execution_count": null,
      "metadata": {
        "colab": {
          "base_uri": "https://localhost:8080/",
          "height": 35
        },
        "id": "JaTvTbay-Rjb",
        "outputId": "bf007116-67be-4d58-cd35-ad3b9db330dd"
      },
      "outputs": [
        {
          "data": {
            "text/plain": [
              "(4218, 1)"
            ]
          },
          "execution_count": 84,
          "metadata": {
            "tags": []
          },
          "output_type": "execute_result"
        }
      ],
      "source": [
        "labels_pred.shape"
      ]
    },
    {
      "cell_type": "code",
      "execution_count": null,
      "metadata": {
        "id": "VCRZqQnf7cMZ"
      },
      "outputs": [],
      "source": [
        "labels_pred = labels_pred.astype('int32')"
      ]
    },
    {
      "cell_type": "code",
      "execution_count": null,
      "metadata": {
        "colab": {
          "base_uri": "https://localhost:8080/",
          "height": 364
        },
        "id": "ziVmUWQo8yNH",
        "outputId": "5771bab1-7878-46b8-f5de-9a75bb0578f2"
      },
      "outputs": [
        {
          "data": {
            "text/plain": [
              "(array([[8],\n",
              "        [8],\n",
              "        [9],\n",
              "        [8],\n",
              "        [8],\n",
              "        [9],\n",
              "        [8],\n",
              "        [9],\n",
              "        [8],\n",
              "        [9]], dtype=int32), 0     7\n",
              " 1     8\n",
              " 2     9\n",
              " 3     9\n",
              " 4     9\n",
              " 5     9\n",
              " 6     9\n",
              " 7    11\n",
              " 8     8\n",
              " 9    10\n",
              " Name: predicted_score, dtype: int64)"
            ]
          },
          "execution_count": 86,
          "metadata": {
            "tags": []
          },
          "output_type": "execute_result"
        }
      ],
      "source": [
        "labels_pred[:10],valid_score1['predicted_score'][:10]"
      ]
    },
    {
      "cell_type": "code",
      "execution_count": null,
      "metadata": {
        "id": "lbQZwwcwERBz"
      },
      "outputs": [],
      "source": []
    },
    {
      "cell_type": "code",
      "execution_count": null,
      "metadata": {
        "colab": {
          "base_uri": "https://localhost:8080/",
          "height": 459
        },
        "id": "GdbkcXPN7df0",
        "outputId": "ac2a7023-5964-464a-8c11-21117a7ac47c"
      },
      "outputs": [
        {
          "data": {
            "image/png": "[encoded data removed]",
            "text/plain": [
              "<Figure size 1152x504 with 1 Axes>"
            ]
          },
          "metadata": {
            "tags": []
          },
          "output_type": "display_data"
        }
      ],
      "source": [
        "plt.figure(figsize=[16,7])\n",
        "plt.title(\"Comparision of actual and predicted score\")\n",
        "plt.plot(df_test['essay_id'][valid_list[6]:valid_list[7]],labels_pred[valid_list[6]:valid_list[7]], color = 'red',label = 'Predicted score')\n",
        "plt.plot(df_test['essay_id'][valid_list[6]:valid_list[7]],valid_score['predicted_score'][valid_list[6]:valid_list[7]] , color = 'blue' , label = 'Actual score')\n",
        "plt.ylabel(\"Score\")\n",
        "plt.xlabel(\"Essay_id\")\n",
        "plt.legend()\n",
        "plt.grid()\n",
        "plt.show()\n",
        "\n"
      ]
    },
    {
      "cell_type": "code",
      "execution_count": null,
      "metadata": {
        "colab": {
          "base_uri": "https://localhost:8080/",
          "height": 459
        },
        "id": "bH4n_cB7OYdl",
        "outputId": "025c448c-ec9f-410d-e4ab-1bfe17bb73aa"
      },
      "outputs": [
        {
          "data": {
            "image/png": "[encoded data removed]",
            "text/plain": [
              "<Figure size 1152x504 with 1 Axes>"
            ]
          },
          "metadata": {
            "tags": []
          },
          "output_type": "display_data"
        }
      ],
      "source": [
        "plt.figure(figsize=[16,7])\n",
        "plt.title(\"Comparision of actual and predicted score\")\n",
        "plt.plot(df_test['essay_id'][:] , labels_pred[:], color = 'red',label = 'Predicted score')\n",
        "plt.plot(df_test['essay_id'][:] , valid_score['predicted_score'][:] , color = 'blue' , label = 'Actual score')\n",
        "plt.ylabel(\"Score\")\n",
        "plt.xlabel(\"Essay_id\")\n",
        "plt.legend()\n",
        "plt.grid()\n",
        "plt.show()\n",
        "\n"
      ]
    },
    {
      "cell_type": "code",
      "execution_count": null,
      "metadata": {
        "id": "N1AXE7pOALyL"
      },
      "outputs": [],
      "source": []
    }
  ],
  "metadata": {
    "accelerator": "GPU",
    "colab": {
      "provenance": []
    },
    "kernelspec": {
      "display_name": "Python 3",
      "name": "python3"
    }
  },
  "nbformat": 4,
  "nbformat_minor": 0
}
